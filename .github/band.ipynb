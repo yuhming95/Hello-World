import meep as mp
import numpy as np
from matplotlib import pyplot as plt
from IPython.display import Video
from meep.materials import Ag
---------------------------------------------------------------------------------------------------------------------------------------------------------
#parameter 
#geometry parameter
x = mp.inf           #x of blocks
y = mp.inf           #y of blocks
z = mp.inf           #z of blocks
r = 0.05           #radius of cylinder
N = 5             #number of blocks
a = r

#cell
resolution = 150     #resolution
cx = N*r*6 #length of cell
cy = N*r*6             #width of cell
dpml = 0      #thickness of PML

#geometry position
xc = 0
yc = 0
zc = 0
h = 1
xb = 0               #x-center of blocks
yb = 0               #y-center of blocks
zb = 0               #z-center of blocks
eps = 4          #epsilon of blocks



#source
fre = 0.5        #frequency of source
df = 1.5
sx = 0       #x-center of source
sy = 0               #y-center of source
w = 0             #size of source

#flux
fx = -sx            #flux location
nfreq = 300 # number of frequencies at which to compute flux
---------------------------------------------------------------------------------------------------------------------------------------------------------
#cell
cell = mp.Vector3(cx,cy)
pml_layers = [mp.PML(dpml,direction = mp.X)]
---------------------------------------------------------------------------------------------------------------------------------------------------------
base = mp.Block(size = mp.Vector3(x,y),
                center = mp.Vector3(xb,yb,zb),
               material = mp.Medium(epsilon=1))
geometry =[base]

for i in range (N+2):
    for j in range (N+2):
        geometry.append(mp.Cylinder(radius = r,
                           center = mp.Vector3((r+a/2)+(a+2*r)*j,a+2*r+2*(a+2*r)*i,zc),
                           height = h,
                                   material = mp.Medium(epsilon=eps))) 
        geometry.append(mp.Cylinder(radius = r,
                           center = mp.Vector3((r+a/2)-(a+2*r)*(j+1),a+2*r-2*(a+2*r)*i,zc),
                           height = h,
                                   material = mp.Medium(epsilon=eps)))
        geometry.append(mp.Cylinder(radius = r,
                           center = mp.Vector3((r+a/2)+(a+2*r)*j,a+2*r-2*(a+2*r)*i,zc),
                           height = h,
                                   material = mp.Medium(epsilon=eps))) 
        geometry.append(mp.Cylinder(radius = r,
                           center = mp.Vector3((r+a/2)-(a+2*r)*(j+1),a+2*r+2*(a+2*r)*i,zc),
                           height = h,
                                   material = mp.Medium(epsilon=eps)))
        geometry.append(mp.Cylinder(radius = r,
                           center = mp.Vector3(xc+(a+2*r)*j,yc+2*(a+2*r)*i,zc),
                           height = h,
                                   material = mp.Medium(epsilon=eps)))
        geometry.append(mp.Cylinder(radius = r,
                           center = mp.Vector3(xc-(a+2*r)*j,yc-2*(a+2*r)*i,zc),
                           height = h,
                                   material = mp.Medium(epsilon=eps)))
        geometry.append(mp.Cylinder(radius = r,
                           center = mp.Vector3(xc+(a+2*r)*j,yc-2*(a+2*r)*i,zc),
                           height = h,
                                   material = mp.Medium(epsilon=eps)))
        geometry.append(mp.Cylinder(radius = r,
                           center = mp.Vector3(xc-(a+2*r)*j,yc+2*(a+2*r)*i,zc),
                           height = h,
                                   material = mp.Medium(epsilon=eps)))
                                          
geometry.append(mp.Cylinder(radius = r,
                           center = mp.Vector3(xc,yc,zc),
                           height = h,
                           material = mp.Medium(epsilon = 1)))
geometry.append(mp.Cylinder(radius = 1.8*r,
                           center = mp.Vector3(a+2*r,yc,zc),
                           height = h,
                           material = mp.Medium(epsilon = eps)))
geometry.append(mp.Cylinder(radius = 1.8*r,
                           center = mp.Vector3(-a-2*r,yc,zc),
                           height = h,
                           material = mp.Medium(epsilon = eps)))
---------------------------------------------------------------------------------------------------------------------------------------------------------                           
#source
sources = [mp.Source(mp.GaussianSource(frequency=fre,fwidth=df),
                     component=mp.Ey,
                     center=mp.Vector3(sx),
                    size = mp.Vector3(0,w,0))]
---------------------------------------------------------------------------------------------------------------------------------------------------------
sym = [mp.Mirror(mp.Y, phase=-1)]
---------------------------------------------------------------------------------------------------------------------------------------------------------
#simulation
sim = mp.Simulation(cell_size=cell,
                    geometry=geometry,
                    boundary_layers=pml_layers,
                    sources=sources,
                    symmetries=sym,
                    resolution=resolution)

---------------------------------------------------------------------------------------------------------------------------------------------------------
%matplotlib inline
plt.figure(dpi=200)
sim.plot2D()
plt.show()

sim.run(until=300)

plt.figure(dpi=200)
sim.plot2D(fields= mp.Ey)
plt.show()
---------------------------------------------------------------------------------------------------------------------------------------------------------
#band
kx = 0
sim.k_point = mp.Vector3(kx)

sim.run(mp.after_sources(mp.Harminv(mp.Ey, mp.Vector3(0),fre,df)),
        until_after_sources=300)
        
%%capture
sim.restart_fields()
k_interp = 21
kpts = mp.interpolate(k_interp, [mp.Vector3(0.68), mp.Vector3(1.37)])
all_freqs = sim.run_k_points(300, kpts)
kx = [k.x for k in kpts]
fig = plt.figure(dpi=100)
ax = plt.subplot(111)
for i in range(len(all_freqs)):
    for ii in range(len(all_freqs[i])):
        plt.scatter(kx[i],np.real(all_freqs[i][ii]),color='b')

plt.grid(True)
plt.xlim(0.68,1.35)
#plt.ylim(0,1)
plt.xlabel('$k_x(2\pi)$')
plt.ylabel('$\omega(2\pi c)$') 

