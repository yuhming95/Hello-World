{
 "cells": [
  {
   "cell_type": "markdown",
   "id": "51bc8aa9-95c2-40b5-b17f-9f90cd698844",
   "metadata": {},
   "source": [
    "First thing we do is import all package we needed, eg. MEEP & numpy for calculation , pyplot for plotting.\n",
    "In this case I also import random for randomise sources and time to record calculation time, and I import silver (Ag) and silicon (Si) parameter from meep for simplify calculation."
   ]
  },
  {
   "cell_type": "code",
   "execution_count": 1,
   "id": "proper-coaching",
   "metadata": {
    "id": "proper-coaching"
   },
   "outputs": [],
   "source": [
    "import meep as mp                   \n",
    "import numpy as np\n",
    "from matplotlib import pyplot as plt\n",
    "from meep.materials import Ag,Si,Au\n",
    "import random\n",
    "import math\n",
    "import time\n",
    "from IPython.display import Video   "
   ]
  },
  {
   "cell_type": "markdown",
   "id": "f099ef4c-5d2b-4006-959f-89a2e9b299b4",
   "metadata": {},
   "source": [
    "Then, we set up a  parameter section. whenever we need to change a parameter, we do it here. So that you dont have to change everything. "
   ]
  },
  {
   "cell_type": "code",
   "execution_count": 2,
   "id": "moving-madison",
   "metadata": {
    "id": "moving-madison"
   },
   "outputs": [],
   "source": [
    "#parameter\n",
    "start_time = time.time()\n",
    "T = 500               # unit of time for simulation\n",
    "#geometry parameter\n",
    "x = mp.inf           #x of blocks\n",
    "y = mp.inf           #y of blocks\n",
    "z = mp.inf           #z of blocks\n",
    "N = 9                #number of source\n",
    "a = 1                #lattice constant in x\n",
    "b = 1                #lattice constant in y\n",
    "c = 0                #lattice constant in z\n",
    "\n",
    "#cell\n",
    "resolution = 70                          #resolution\n",
    "cx = a                                    #x of cell\n",
    "cy = b                                    #y of cell\n",
    "cz = c                                    #z of cell              \n",
    "dpml = 0                                  #thickness of PML\n",
    "\n",
    "#geometry position\n",
    "r = a/4                                  #radius of cylinder\n",
    "h = c/2                                  #height of cylinder\n",
    "A = np.pi * r *r                           # Area of material\n",
    "xc = np.sqrt(A)                           #x of cube\n",
    "yc = xc                                  #y of cube\n",
    "zc = xc                                  #z of cube\n",
    "xb = 0                                   #x-center of base(always 0)\n",
    "yb = 0                                   #y-center of base(always 0)\n",
    "zb = 0                                   #z-center of base(always 0)\n",
    "material_base = mp.Medium(epsilon =1)       #base material (air) \n",
    "\n",
    "material = mp.Medium(epsilon = 1 , E_susceptibilities = susceptibilities) #geometry material\n",
    "\n"
   ]
  },
  {
   "cell_type": "markdown",
   "id": "53e2b598-b737-4664-a140-c1641be1dcca",
   "metadata": {},
   "source": [
    "Then, we set up the cell before putting anything in it."
   ]
  },
  {
   "cell_type": "code",
   "execution_count": 3,
   "id": "841fd65f-77c4-458c-b132-4cb433c489c0",
   "metadata": {
    "id": "df92d679-86f6-406d-bdf9-8c56a456d1ff"
   },
   "outputs": [],
   "source": [
    "#cell\n",
    "cell = mp.Vector3(cx,cy,cz)                         # create a cell with cell size of [cx,cy,cz]\n",
    "pml_layers = [mp.PML(dpml,direction = mp.X)]        # create a perfect material layer with thickness of dpml, and only in X-direction"
   ]
  },
  {
   "cell_type": "markdown",
   "id": "9f1a1187-0d00-4362-8c78-dfc185f1385b",
   "metadata": {},
   "source": [
    "We then create a geometry inside the cell for our simulation. When two geometry stack together , the newer material will replace the older part. Which is why we can build a environment base then stack a new geometry on it. Once we set up the cell, meep will repeat the cell infinitely. That means the cell is the lattice of our crystal. We put only one cylinder in the center to create a square lattice crystal."
   ]
  },
  {
   "cell_type": "code",
   "execution_count": 4,
   "id": "187f0579-6983-494f-933c-c7b844d964c1",
   "metadata": {
    "id": "df92d679-86f6-406d-bdf9-8c56a456d1ff"
   },
   "outputs": [],
   "source": [
    "# the base material on the environment.\n",
    "base = mp.Block(size = mp.Vector3(x,y,z),           \n",
    "                center = mp.Vector3(xb,yb,zb),\n",
    "               material = material_base)\n",
    "geometry =[base]"
   ]
  },
  {
   "cell_type": "code",
   "execution_count": 5,
   "id": "e2569439-674a-4352-9219-303a6cfe7509",
   "metadata": {
    "id": "adebc068-8b29-46b2-8d06-9cdd4b2957d3",
    "tags": []
   },
   "outputs": [],
   "source": [
    "#prism\n",
    "\n",
    "geometry.append(mp.Block(size = mp.Vector3(xc,yc),\n",
    "                         e1 = mp.Vector3(0.5,0.5),\n",
    "                         e2 = mp.Vector3(-0.5,0.5),\n",
    "                           center = mp.Vector3(0,0,0),\n",
    "                                   material = material)) "
   ]
  },
  {
   "cell_type": "raw",
   "id": "cd0b27c8-eba8-4c6a-991d-1cbdf1707ab5",
   "metadata": {
    "id": "ad87470c-654b-4218-803f-3b903e8e09df"
   },
   "source": [
    "#cube\n",
    "\n",
    "geometry.append(mp.Block(size = mp.Vector3(xc,yc),\n",
    "                           center = mp.Vector3(0,0,0),\n",
    "                                   material = material))\n",
    "  \n",
    "  "
   ]
  },
  {
   "cell_type": "raw",
   "id": "5d37312f-7102-4814-970e-0b375e0a86d1",
   "metadata": {
    "id": "ad87470c-654b-4218-803f-3b903e8e09df"
   },
   "source": [
    "              #triangle\n",
    "vertices = [\n",
    "    mp.Vector3(0,0.25),\n",
    "    mp.Vector3(-A/0.5,-0.25),\n",
    "    mp.Vector3(A/0.5,-0.25)\n",
    "    ]\n",
    "geometry.append(mp.Prism(vertices,\n",
    "                         height = 1,\n",
    "                           center = mp.Vector3(0,0,0),\n",
    "                                   material = material))\n",
    "                                                     "
   ]
  },
  {
   "cell_type": "raw",
   "id": "e1fa275c-c219-4818-88de-c13a52c43b27",
   "metadata": {
    "id": "ad87470c-654b-4218-803f-3b903e8e09df"
   },
   "source": [
    "#trapezoid\n",
    "vertices = [\n",
    "    mp.Vector3(0.15,0.25),\n",
    "    mp.Vector3(-0.15,0.25),\n",
    "    mp.Vector3(-0.15,-0.25),\n",
    "    mp.Vector3(A*2/0.5-0.3-0.15,-0.25)\n",
    "    ]\n",
    "geometry.append(mp.Prism(vertices,\n",
    "                         height = 1,\n",
    "                           center = mp.Vector3(0,0,0),\n",
    "                                   material = material))\n",
    "   "
   ]
  },
  {
   "cell_type": "raw",
   "id": "05887c0c-94c5-40a5-8285-c6284e29743a",
   "metadata": {
    "id": "ad87470c-654b-4218-803f-3b903e8e09df"
   },
   "source": [
    "#pentagon\n",
    "sin = np.sin(18*np.pi/180)\n",
    "cos = np.cos(18*np.pi/180)\n",
    "x1 = -0.15\n",
    "x2 = x1+0.3\n",
    "x3 = x2+0.3*sin\n",
    "x4 = x3-0.3*cos\n",
    "x5 = x4-0.3*cos\n",
    "x6 = x5+0.3*sin\n",
    "\n",
    "y1 = -(A*2/5/0.3)\n",
    "y2 = y1\n",
    "y3 = y2+0.3*cos\n",
    "y4 = y3+0.3*sin\n",
    "y5 = y4-0.3*sin\n",
    "y6 = y5-0.3*cos\n",
    "\n",
    "vertices = [\n",
    "    mp.Vector3(x1,y1),\n",
    "    mp.Vector3(x2,y2),\n",
    "    mp.Vector3(x3,y3),\n",
    "    mp.Vector3(x4,y4),\n",
    "    mp.Vector3(x5,y5),\n",
    "    mp.Vector3(x6,y6)\n",
    "    ]\n",
    "geometry.append(mp.Prism(vertices,\n",
    "                         height = 1,\n",
    "                           center = mp.Vector3(0,0,0),\n",
    "                                   material = material))"
   ]
  },
  {
   "cell_type": "raw",
   "id": "ed101b2f-895b-4e85-a096-ec84977a6758",
   "metadata": {
    "id": "ad87470c-654b-4218-803f-3b903e8e09df"
   },
   "source": [
    "                                 \n",
    "for i in range (5):\n",
    "    for ii in range (5):\n",
    "        geometry.append(mp.Block(size = mp.Vector3(2*r,2*r),\n",
    "                           center = mp.Vector3(i*a,ii*b),\n",
    "                                   material = material))\n",
    "        geometry.append(mp.Block(size = mp.Vector3(2*r,2*r),\n",
    "                           center = mp.Vector3(-i*a,ii*b),\n",
    "                                   material = material))\n",
    "        geometry.append(mp.Block(size = mp.Vector3(2*r,2*r),\n",
    "                           center = mp.Vector3(i*a,-ii*b),\n",
    "                                   material = material))\n",
    "        geometry.append(mp.Block(size = mp.Vector3(2*r,2*r),\n",
    "                           center = mp.Vector3(-i*a,-ii*b),\n",
    "                                   material = material))\n",
    "        "
   ]
  },
  {
   "cell_type": "raw",
   "id": "65aaa08c-e93d-4d61-898b-45c056684b02",
   "metadata": {
    "id": "521be96b-81c9-4f7a-9287-23f7d7f8d54b"
   },
   "source": [
    "# circle\n",
    "geometry.append(mp.Cylinder(radius = r,\n",
    "                            height = h,\n",
    "                           center = mp.Vector3(0,0,0),\n",
    "                                   material = material))\n"
   ]
  },
  {
   "cell_type": "markdown",
   "id": "a24f2235-cbd5-4969-85da-b6a7c11ec1d3",
   "metadata": {},
   "source": [
    "After we create the geometry, now we put our sources. We are calculating plasmonic crystal which mean our geometry material is using metal. An error will occur if a source is inside a metal so we have to be careful about the position of sources to be outside of metal."
   ]
  },
  {
   "cell_type": "code",
   "execution_count": 6,
   "id": "66c89424-84d5-44f9-9a5e-cdeb6b1f3d7e",
   "metadata": {
    "id": "66c89424-84d5-44f9-9a5e-cdeb6b1f3d7e"
   },
   "outputs": [],
   "source": [
    "#source\n",
    "sources = [ ]                     # defines sources to add on contents later\n",
    "sources.append(mp.Source(mp.GaussianSource(frequency=fre,fwidth=df),   # center frequency & frequency width\n",
    "                             component=component,                      # field polarization \n",
    "                             center=mp.Vector3(sx,sy,sz),             # position\n",
    "                            size = mp.Vector3(0,w,0)))                 # width of source"
   ]
  },
  {
   "cell_type": "code",
   "execution_count": 7,
   "id": "36c8b4ab-9df3-484f-abe7-ad772c092de3",
   "metadata": {
    "id": "36c8b4ab-9df3-484f-abe7-ad772c092de3"
   },
   "outputs": [],
   "source": [
    "sources.append(mp.Source(mp.GaussianSource(frequency=fre,fwidth=df),   # center frequency & frequency width\n",
    "                             component=component,                      # field polarization \n",
    "                             center=mp.Vector3(sx,sy,sz),             # position\n",
    "                            size = mp.Vector3(0,w,0)))                 # width of source\n"
   ]
  },
  {
   "cell_type": "markdown",
   "id": "c07e850e-4100-4b0e-93b1-4c8549620386",
   "metadata": {},
   "source": [
    "Now we add multiple random sources to excite more mode of the crystal. we create a for-loop that on every loop, it will create 1 source each on four quadrants with position be random number between (0-a/2), and repeat it for N times. we also use a if- to make sure x^2+y^2 > r^2, so that no source be inside metal."
   ]
  },
  {
   "cell_type": "code",
   "execution_count": 8,
   "id": "eefa49dd-5b6c-40d2-81c2-109f1431906d",
   "metadata": {
    "id": "43f29bb4-85d3-4122-bbde-337ddcbfd104"
   },
   "outputs": [],
   "source": [
    "for i in range (N+1):                       #create multiple source\n",
    "    sx1 = random.uniform(-a/2,a/2)     #x-center of source\n",
    "    sy1 = random.uniform(-a/2,a/2)     #y-center of source\n",
    "\n",
    "    \n",
    "    if  np.square(sx1)+ np.square(sy1)<(r*r):\n",
    "        sx1 = sx1+r\n",
    "        sy1 = sy1+r\n",
    "    sources.append(mp.Source(mp.GaussianSource(frequency=fre,fwidth=df),\n",
    "                             component=random.choice([mp.Hz, mp.Ey, mp.Ex]),                        # random polarization (TM-mode)\n",
    "                             center=mp.Vector3(sx1,sy1,sz),                                            # random position\n",
    "                            size = mp.Vector3(0,w,0)))   \n"
   ]
  },
  {
   "cell_type": "markdown",
   "id": "f635a87d-2b16-4dda-a8e5-95cf0f06b240",
   "metadata": {},
   "source": [
    "then we create a simulation with all the cell, geometry, sources, we defined."
   ]
  },
  {
   "cell_type": "code",
   "execution_count": 9,
   "id": "d2f605b3-ccb1-4f8f-96ce-e0fbe91be231",
   "metadata": {
    "id": "d2f605b3-ccb1-4f8f-96ce-e0fbe91be231"
   },
   "outputs": [],
   "source": [
    "#simulation\n",
    "sim = mp.Simulation(cell_size=cell,\n",
    "                    geometry=geometry,\n",
    "                    boundary_layers=pml_layers,\n",
    "                    sources=sources,\n",
    "                    k_point=mp.Vector3(0.5,0.5),\n",
    "                    resolution=resolution)"
   ]
  },
  {
   "cell_type": "markdown",
   "id": "cf853f36-2598-4e28-9e8e-824e29262059",
   "metadata": {},
   "source": [
    "Before the simulation start, we can draw our cell to make sure the geometry and sources is correct."
   ]
  },
  {
   "cell_type": "code",
   "execution_count": 10,
   "id": "088bd827-9225-4fe1-8e27-eeb1e2141b76",
   "metadata": {
    "id": "d87d02d8-86d7-4939-a977-5fed00aa7ec3"
   },
   "outputs": [
    {
     "name": "stdout",
     "output_type": "stream",
     "text": [
      "-----------\n",
      "Initializing structure...\n",
      "time for choose_chunkdivision = 6.79493e-05 s\n",
      "Working in 2D dimensions.\n",
      "Computational cell is 1 x 1 x 0 with resolution 70\n",
      "     block, center = (0,0,0)\n",
      "          size (1e+20,1e+20,1e+20)\n",
      "          axes (1,0,0), (0,1,0), (0,0,1)\n",
      "          dielectric constant epsilon diagonal = (1,1,1)\n",
      "     block, center = (0,0,0)\n",
      "          size (0.443113,0.443113,0)\n",
      "          axes (0.707107,0.707107,0), (-0.707107,0.707107,0), (0,0,1)\n",
      "          dielectric constant epsilon diagonal = (1,1,1)\n",
      "time for set_epsilon = 0.0251188 s\n",
      "lorentzian susceptibility: frequency=16.365, gamma=1.95106\n",
      "lorentzian susceptibility: frequency=7.32593, gamma=0.738804\n",
      "lorentzian susceptibility: frequency=6.60165, gamma=0.052426\n",
      "lorentzian susceptibility: frequency=3.61417, gamma=0.364563\n",
      "lorentzian susceptibility: frequency=0.658148, gamma=3.13427\n",
      "drude susceptibility: frequency=1e-10, gamma=0.0387146\n",
      "-----------\n",
      "Meep: using complex fields.\n"
     ]
    },
    {
     "data": {
      "image/png": "[encoded data removed]",
      "text/plain": [
       "<Figure size 600x400 with 1 Axes>"
      ]
     },
     "metadata": {
      "needs_background": "light"
     },
     "output_type": "display_data"
    }
   ],
   "source": [
    "%matplotlib inline\n",
    "plt.figure(dpi=100)\n",
    "sim.plot2D()\n",
    "plt.xlabel('')\n",
    "plt.ylabel('')\n",
    "plt.show()"
   ]
  },
  {
   "cell_type": "markdown",
   "id": "117c8825-e422-47ac-8267-9a88a815a796",
   "metadata": {},
   "source": [
    "now we run our simulation, for a T unit of time "
   ]
  },
  {
   "cell_type": "code",
   "execution_count": 11,
   "id": "c5414a98-cece-43e3-aaac-bf3cbf1cb762",
   "metadata": {
    "id": "74e879d9-101e-4612-8de1-43a44850f2b6"
   },
   "outputs": [
    {
     "name": "stdout",
     "output_type": "stream",
     "text": [
      "Meep progress: 34.05/500.0 = 6.8% done in 4.0s, 54.8s to go\n",
      "on time step 4767 (time=34.05), 0.00083952 s/step\n",
      "Meep progress: 82.43571428571428/500.0 = 16.5% done in 8.0s, 40.5s to go\n",
      "on time step 11544 (time=82.4571), 0.00059028 s/step\n",
      "Meep progress: 122.92857142857143/500.0 = 24.6% done in 12.0s, 36.8s to go\n",
      "on time step 17211 (time=122.936), 0.000705992 s/step\n",
      "Meep progress: 156.20714285714286/500.0 = 31.2% done in 16.0s, 35.2s to go\n",
      "on time step 21873 (time=156.236), 0.000858949 s/step\n",
      "Meep progress: 191.42857142857142/500.0 = 38.3% done in 20.0s, 32.2s to go\n",
      "on time step 26804 (time=191.457), 0.000811527 s/step\n",
      "Meep progress: 242.07142857142856/500.0 = 48.4% done in 24.0s, 25.6s to go\n",
      "on time step 33904 (time=242.171), 0.000563404 s/step\n",
      "Meep progress: 276.7785714285714/500.0 = 55.4% done in 28.0s, 22.6s to go\n",
      "on time step 38778 (time=276.986), 0.000820745 s/step\n",
      "Meep progress: 315.1642857142857/500.0 = 63.0% done in 32.0s, 18.8s to go\n",
      "on time step 44151 (time=315.364), 0.000744464 s/step\n",
      "Meep progress: 357.8285714285714/500.0 = 71.6% done in 36.0s, 14.3s to go\n",
      "on time step 50116 (time=357.971), 0.000670602 s/step\n",
      "Meep progress: 410.1428571428571/500.0 = 82.0% done in 40.0s, 8.8s to go\n",
      "on time step 57425 (time=410.179), 0.000547756 s/step\n",
      "Meep progress: 443.2785714285714/500.0 = 88.7% done in 44.0s, 5.6s to go\n",
      "on time step 62100 (time=443.571), 0.000855625 s/step\n",
      "Meep progress: 482.95714285714286/500.0 = 96.6% done in 48.0s, 1.7s to go\n",
      "on time step 67627 (time=483.05), 0.000723802 s/step\n",
      "run 0 finished at t = 500.0 (70000 timesteps)\n"
     ]
    }
   ],
   "source": [
    "sim.run(until=T)"
   ]
  },
  {
   "cell_type": "markdown",
   "id": "d2b8d6b9-c6c5-4a2c-b039-896b9d8d4697",
   "metadata": {},
   "source": [
    "after T unit we can draw again our field distribution"
   ]
  },
  {
   "cell_type": "code",
   "execution_count": 12,
   "id": "fc67fb22-6590-4e5c-aeb2-d6d0c2ed2892",
   "metadata": {
    "id": "00bef895-7746-4f0d-aeeb-7b4172cf4d05"
   },
   "outputs": [
    {
     "data": {
      "image/png": "[encoded data removed]",
      "text/plain": [
       "<Figure size 900x600 with 1 Axes>"
      ]
     },
     "metadata": {
      "needs_background": "light"
     },
     "output_type": "display_data"
    }
   ],
   "source": [
    "plt.figure(dpi=150)\n",
    "sim.plot2D(fields= mp.Hz,field_parameters={'alpha':0.5, 'interpolation':'none', 'cmap':'RdBu'},source_parameters={'alpha':0})\n",
    "plt.xlabel('')\n",
    "plt.ylabel('')\n",
    "#plt.title('0.65 MHz')\n",
    "plt.show()"
   ]
  },
  {
   "cell_type": "raw",
   "id": "6721c32d-1550-469c-b0a8-9bb267695572",
   "metadata": {
    "id": "adjacent-belize"
   },
   "source": [
    "BAND"
   ]
  },
  {
   "cell_type": "code",
   "execution_count": 13,
   "id": "af66ff9a-2c11-4ff3-a102-2c34ff903eed",
   "metadata": {
    "id": "42413f8e-f915-4a82-ac94-1a60920011b5"
   },
   "outputs": [],
   "source": [
    "%%capture\n",
    "sim.restart_fields()    # reset field distribution we last calculate\n",
    "k_interp = 22           # number of point for calculate between two k-point"
   ]
  },
  {
   "cell_type": "code",
   "execution_count": 14,
   "id": "vdzn8e9NAzcA",
   "metadata": {
    "id": "vdzn8e9NAzcA",
    "tags": []
   },
   "outputs": [
    {
     "name": "stdout",
     "output_type": "stream",
     "text": [
      "Meep progress: 31.3/503.3333332538605 = 6.2% done in 4.0s, 60.4s to go\n",
      "on time step 4382 (time=31.3), 0.000913368 s/step\n",
      "Meep progress: 58.65/503.3333332538605 = 11.7% done in 8.0s, 60.7s to go\n",
      "on time step 8212 (time=58.6571), 0.0010447 s/step\n",
      "Meep progress: 113.15714285714286/503.3333332538605 = 22.5% done in 12.0s, 41.4s to go\n",
      "on time step 15850 (time=113.214), 0.000523777 s/step\n",
      "Meep progress: 157.8357142857143/503.3333332538605 = 31.4% done in 16.0s, 35.0s to go\n",
      "on time step 22109 (time=157.921), 0.000639168 s/step\n",
      "Meep progress: 206.60714285714286/503.3333332538605 = 41.0% done in 20.0s, 28.7s to go\n",
      "on time step 28944 (time=206.743), 0.000585258 s/step\n",
      "Meep progress: 259.6428571428571/503.3333332538605 = 51.6% done in 24.0s, 22.5s to go\n",
      "on time step 36364 (time=259.743), 0.000539129 s/step\n",
      "Meep progress: 310.9714285714286/503.3333332538605 = 61.8% done in 28.0s, 17.3s to go\n",
      "on time step 43540 (time=311), 0.000557433 s/step\n",
      "Meep progress: 352.34999999999997/503.3333332538605 = 70.0% done in 32.0s, 13.7s to go\n",
      "on time step 49335 (time=352.393), 0.000690578 s/step\n",
      "Meep progress: 407.65/503.3333332538605 = 81.0% done in 36.0s, 8.5s to go\n",
      "on time step 57093 (time=407.807), 0.000515633 s/step\n",
      "Meep progress: 466.8285714285714/503.3333332538605 = 92.7% done in 40.0s, 3.1s to go\n",
      "on time step 65383 (time=467.021), 0.000482513 s/step\n",
      "harminv1:, frequency, imag. freq., Q, |amp|, amplitude, error\n",
      "harminv1:, 0.5843478598477586, -0.0007049649436289054, 414.4517150312089, 0.006593181009607644, -0.006535198407930318-0.0008724778475330483i, 8.929807045511318e-07+0.0i\n",
      "harminv1:, 0.5976031499307937, -0.00040776437727441805, 732.7799867233346, 0.15286959834082595, -0.15285993919868596-0.00171845426458991i, 2.565858193179393e-08+0.0i\n",
      "harminv1:, 0.9157003104734498, -0.002154027362490139, 212.55540352441596, 0.0016541869430100461, 0.0016164766400120821+0.0003511946963155496i, 1.2936053336883717e-05+0.0i\n",
      "harminv1:, 1.32866766288598, -0.003020064312508165, 219.97340543097917, 3.3913805476516514, -0.6472864392899913+3.3290362395896653i, 6.710658884169958e-09+0.0i\n",
      "harminv1:, 1.3908373750142065, -0.0031418564693950282, 221.34005619964165, 0.022120234384313976, 0.011468484505922727+0.018915037202035755i, 1.063545914569732e-06+0.0i\n",
      "harminv1:, 1.5008481318623796, -0.0019307302407235503, 388.6736997758759, 0.0019920022093171974, 0.0018735482156039005+0.0006766756133717516i, 5.6545406289600325e-06+0.0i\n",
      "harminv1:, 1.6300374097531691, -0.0022535804594828904, 361.65502831152514, 1.573244590011254, 0.2817004926690001-1.5478189081509894i, 6.788259067194309e-09+0.0i\n",
      "harminv1:, 1.9864152091791438, -0.0041102836651654585, 241.63967392493592, 3.359231004188785, 1.3071557315083682+3.0944752112576404i, 8.393100989398582e-09+0.0i\n",
      "harminv1:, 2.0092956099502906, -0.0032639365220795925, 307.80249498695565, 0.07177432661938948, 0.043171581119639764+0.05733906648435397i, 2.2943798403784007e-07+0.0i\n",
      "harminv1:, 2.038237857200718, -0.012402382348767107, 82.1712232329031, 0.09285461315424191, 0.07307396566252625+0.05729026729188694i, 3.0783105566222596e-06+0.0i\n",
      "harminv1:, 2.1228381413425863, -0.01663366539796921, 63.811495859528414, 0.029189734399420613, 0.029019628511996045+0.0031467054731043917i, 1.5162261423982161e-05+0.0i\n",
      "run 1 finished at t = 503.3357142857143 (70467 timesteps)\n",
      "freqs:, 1, 0.5, 0.5, 0.0, 0.5843478598477586, 0.5976031499307937, 0.9157003104734498, 1.32866766288598, 1.3908373750142065, 1.5008481318623796, 1.6300374097531691, 1.9864152091791438, 2.0092956099502906, 2.038237857200718, 2.1228381413425863\n",
      "freqs-im:, 1, 0.5, 0.5, 0.0, -0.0007049649436289054, -0.00040776437727441805, -0.002154027362490139, -0.003020064312508165, -0.0031418564693950282, -0.0019307302407235503, -0.0022535804594828904, -0.0041102836651654585, -0.0032639365220795925, -0.012402382348767107, -0.01663366539796921\n"
     ]
    }
   ],
   "source": [
    "kpts = mp.interpolate(k_interp, [\n",
    "                                 mp.Vector3(1/(2*a),1/(2*b))\n",
    "                               ])       # Γ-point          \n",
    "all_freqs = sim.run_k_points(T, kpts)                       # start calculation the frequency, for all 60 points we just defined\n",
    "#np.save('Ag_freqs_trape.npy',all_freqs)                           # save the results in case it is needed or PC accidently turned off"
   ]
  },
  {
   "cell_type": "markdown",
   "id": "7b957cd1-fcfd-4388-8fe1-2243066b5b12",
   "metadata": {},
   "source": [
    "now we create k1, k2, k3 for plotting our results in k-space, which need to be ratio of 1:1:sqrt(2) for a square lattice plasmonic crystal."
   ]
  },
  {
   "cell_type": "code",
   "execution_count": 15,
   "id": "082baa14-6f88-4ee0-9e4f-21d8631ed4e6",
   "metadata": {
    "id": "e8364783-1f63-4dae-91a4-eed9193c1bd5"
   },
   "outputs": [],
   "source": [
    "v = round(len(kpts)/3)\n",
    "\n",
    "k1 = np.linspace(0,1,v)\n",
    "k2 = np.linspace(1,2,v)\n",
    "k3 = np.linspace(2,2+np.sqrt(2),v)"
   ]
  },
  {
   "cell_type": "code",
   "execution_count": 16,
   "id": "8bc78325-7931-4bd4-bd67-8382fecc50bc",
   "metadata": {
    "id": "77625542-fda4-43ad-ac7e-9dad5b9dc179"
   },
   "outputs": [
    {
     "ename": "IndexError",
     "evalue": "index 1 is out of bounds for axis 0 with size 0",
     "output_type": "error",
     "traceback": [
      "\u001b[0;31m---------------------------------------------------------------------------\u001b[0m",
      "\u001b[0;31mIndexError\u001b[0m                                Traceback (most recent call last)",
      "\u001b[0;32m<ipython-input-16-35392bbf0513>\u001b[0m in \u001b[0;36m<module>\u001b[0;34m\u001b[0m\n\u001b[1;32m     12\u001b[0m \u001b[0;34m\u001b[0m\u001b[0m\n\u001b[1;32m     13\u001b[0m \u001b[0mplt\u001b[0m\u001b[0;34m.\u001b[0m\u001b[0mgrid\u001b[0m\u001b[0;34m(\u001b[0m\u001b[0;32mTrue\u001b[0m\u001b[0;34m)\u001b[0m\u001b[0;34m\u001b[0m\u001b[0;34m\u001b[0m\u001b[0m\n\u001b[0;32m---> 14\u001b[0;31m \u001b[0mplt\u001b[0m\u001b[0;34m.\u001b[0m\u001b[0mxlim\u001b[0m\u001b[0;34m(\u001b[0m\u001b[0mk1\u001b[0m\u001b[0;34m[\u001b[0m\u001b[0;36m1\u001b[0m\u001b[0;34m]\u001b[0m\u001b[0;34m,\u001b[0m\u001b[0mk3\u001b[0m\u001b[0;34m[\u001b[0m\u001b[0;34m-\u001b[0m\u001b[0;36m1\u001b[0m\u001b[0;34m]\u001b[0m\u001b[0;34m)\u001b[0m\u001b[0;34m\u001b[0m\u001b[0;34m\u001b[0m\u001b[0m\n\u001b[0m\u001b[1;32m     15\u001b[0m \u001b[0mplt\u001b[0m\u001b[0;34m.\u001b[0m\u001b[0mylim\u001b[0m\u001b[0;34m(\u001b[0m\u001b[0;36m0\u001b[0m\u001b[0;34m,\u001b[0m\u001b[0;36m3\u001b[0m\u001b[0;34m)\u001b[0m\u001b[0;34m\u001b[0m\u001b[0;34m\u001b[0m\u001b[0m\n\u001b[1;32m     16\u001b[0m \u001b[0mplt\u001b[0m\u001b[0;34m.\u001b[0m\u001b[0mxticks\u001b[0m\u001b[0;34m(\u001b[0m\u001b[0;34m(\u001b[0m\u001b[0;36m0\u001b[0m\u001b[0;34m,\u001b[0m\u001b[0mk1\u001b[0m\u001b[0;34m[\u001b[0m\u001b[0;34m-\u001b[0m\u001b[0;36m1\u001b[0m\u001b[0;34m]\u001b[0m\u001b[0;34m,\u001b[0m\u001b[0mk2\u001b[0m\u001b[0;34m[\u001b[0m\u001b[0;34m-\u001b[0m\u001b[0;36m1\u001b[0m\u001b[0;34m]\u001b[0m\u001b[0;34m,\u001b[0m\u001b[0mk3\u001b[0m\u001b[0;34m[\u001b[0m\u001b[0;34m-\u001b[0m\u001b[0;36m1\u001b[0m\u001b[0;34m]\u001b[0m\u001b[0;34m)\u001b[0m\u001b[0;34m,\u001b[0m\u001b[0;34m(\u001b[0m\u001b[0;34m'Γ'\u001b[0m\u001b[0;34m,\u001b[0m \u001b[0;34m'X'\u001b[0m\u001b[0;34m,\u001b[0m \u001b[0;34m'M'\u001b[0m\u001b[0;34m,\u001b[0m \u001b[0;34m'Γ'\u001b[0m\u001b[0;34m)\u001b[0m\u001b[0;34m)\u001b[0m\u001b[0;34m\u001b[0m\u001b[0;34m\u001b[0m\u001b[0m\n",
      "\u001b[0;31mIndexError\u001b[0m: index 1 is out of bounds for axis 0 with size 0"
     ]
    },
    {
     "data": {
      "image/png": "[encoded data removed]",
      "text/plain": [
       "<Figure size 900x600 with 1 Axes>"
      ]
     },
     "metadata": {
      "needs_background": "light"
     },
     "output_type": "display_data"
    }
   ],
   "source": [
    "fig = plt.figure(dpi=150)\n",
    "ax = plt.subplot(111)\n",
    "for i in range(v):\n",
    "    for ii in range(len(all_freqs[i])):\n",
    "        plt.scatter(k1[i],np.real(all_freqs[i][ii]),color='b',marker = '_')\n",
    "for i in range(v):\n",
    "    for ii in range(len(all_freqs[i+v])):\n",
    "        plt.scatter(k2[i],np.real(all_freqs[i+v][ii]),color='b',marker = '_')\n",
    "for i in range(v):\n",
    "    for ii in range(len(all_freqs[i+2*v])):\n",
    "        plt.scatter(k3[i],np.real(all_freqs[i+2*v][ii]),color='b',marker = '_')\n",
    "\n",
    "plt.grid(True)\n",
    "plt.xlim(k1[1],k3[-1])\n",
    "plt.ylim(0,3)\n",
    "plt.xticks((0,k1[-1],k2[-1],k3[-1]),('Γ', 'X', 'M', 'Γ'))\n",
    "plt.xticks(fontsize=14)\n",
    "plt.ylabel('$ frequency  (1/\\mu m)$', fontsize = 14)\n",
    "plt.title('Two-dimensional Plasmonic Crystal TE-mode')"
   ]
  },
  {
   "cell_type": "markdown",
   "id": "e187ad0d-8e35-46bb-8a71-c44fb2db7f07",
   "metadata": {},
   "source": [
    "This part, we use the frequency results we just calculate to make some calculation about Quality factor(Q-factor) for each frequency."
   ]
  },
  {
   "cell_type": "code",
   "execution_count": null,
   "id": "4b519e38-11c2-466e-baf7-b78c44c0211a",
   "metadata": {
    "id": "059c35cb-e270-4d33-9f30-86f2b0c74bd1"
   },
   "outputs": [],
   "source": [
    "freqs_plot_real=list()\n",
    "freqs_plot_im=list()\n",
    "kx_plot=list()\n",
    "plot_lib=0\n",
    "freqs_plot_real_M=list()\n",
    "freqs_plot_im_M=list()\n",
    "\n",
    "\n",
    "#1\n",
    "for i in range(len(all_freqs)):                   \n",
    "    for ii in range(len(all_freqs[i])):            \n",
    "            freqs_plot_real.append(np.real(all_freqs[i][ii]))\n",
    "            freqs_plot_im.append(np.imag(all_freqs[i][ii]))\n",
    "            plot_lib+=1\n",
    "            \n",
    "k4 = np.linspace(0,1,len(freqs_plot_real))\n",
    "\n",
    "freqs_plot_real=np.array(freqs_plot_real)\n",
    "freqs_plot_im=np.array(freqs_plot_im)\n",
    "kx_plot=np.array(kx_plot)\n",
    "           \n",
    "\n",
    "Q_plot=np.abs(freqs_plot_real/(2*freqs_plot_im))\n",
    "\n",
    "Q_plot_min=np.min(Q_plot)\n",
    "Q_plot_max=np.max(Q_plot)"
   ]
  },
  {
   "cell_type": "code",
   "execution_count": null,
   "id": "fc61c476-13a7-4c22-a68b-3647fc35850f",
   "metadata": {
    "id": "059c35cb-e270-4d33-9f30-86f2b0c74bd1"
   },
   "outputs": [],
   "source": [
    "fig = plt.figure(dpi=100,figsize=(5,5))\n",
    "ax = plt.subplot(111)\n",
    "plt.scatter(k4,freqs_plot_real,c=Q_plot,s=20,vmin=Q_plot_min, vmax=Q_plot_max, cmap='jet',marker='_')   \n",
    "\n",
    "cb=plt.colorbar()\n",
    "\n",
    "font={'color':'black',\n",
    "     'size':'16',\n",
    "      'weight':'normal'\n",
    "     }\n",
    "cb.set_label('Q(quality factor)',fontdict=font)\n",
    "\n",
    "\n",
    "\n",
    "\n",
    "points_in_between = (len(all_freqs[0]) ) / 2       #for gamma k gamma\n",
    "tick_locs = [(points_in_between*0)+i for i in range(2)]  #know that 0~9\n",
    "\n",
    "\n",
    "\n",
    "plt.grid(True)\n",
    "\n",
    "plt.tight_layout()\n",
    "plt.xlim(0,k4[-1])\n",
    "plt.ylim(fre-df/2,fre+df/2)\n",
    "#plt.ylim(0.5,0.6)\n",
    "plt.ylabel('$ frequency  (1/\\mu m)$')\n",
    "plt.title('TM-mode Square Lattice Plasmonic Crystal')\n",
    "plt.xticks((0,k4[-1]/3,2*k4[-1]/3,k4[-1]),('Γ', 'X', 'M', 'Γ'))\n",
    "#fig.savefig('timedomain_DM_sigama_0_0i(gamma)', dpi=fig.dpi)\n",
    "plt.show()\n",
    "\n",
    "print(Q_plot_max)"
   ]
  },
  {
   "cell_type": "code",
   "execution_count": null,
   "id": "a4efadb5-79cb-46b0-bfab-582bc18f3aba",
   "metadata": {
    "id": "114ba29a-7ac2-4f1f-8fb3-8d22a86676b1"
   },
   "outputs": [],
   "source": [
    "VIDEO"
   ]
  },
  {
   "cell_type": "markdown",
   "id": "d0c4072a-1309-4285-ab3c-14da6ee87934",
   "metadata": {},
   "source": [
    "We also can make a video of our field distribute process , but our field at source is too large at the beginning causing the field to be not obvious at the beginning"
   ]
  },
  {
   "cell_type": "code",
   "execution_count": null,
   "id": "4255e9d8-0833-44b3-ab08-2aba7cc0edc5",
   "metadata": {
    "id": "f1f8edab-504e-4b5c-ab11-ff2f1fb2a05b"
   },
   "outputs": [],
   "source": [
    "sim.reset_meep()                # reset the field to start from beginning\n",
    "f = plt.figure(dpi=100)         # size of our video \n",
    "Animate = mp.Animate2D(sim, fields=component, f=f, realtime=False, normalize=True,field_parameters={'alpha':0.5, 'interpolation':'none', 'cmap':'RdBu','vmax':0.0001,'vmin':-0.0001})\n",
    "plt.close()"
   ]
  },
  {
   "cell_type": "code",
   "execution_count": null,
   "id": "d7d12e58-9192-4e8e-9ad5-e25ddfd05f88",
   "metadata": {
    "id": "d7014191-e9e5-4552-8a39-7b9063b419bd",
    "tags": []
   },
   "outputs": [],
   "source": [
    "sim.run(mp.at_every(0.01,Animate),until = 50)    # get a frame every 0.01 unit for a total of T unit of time\n",
    "plt.close()"
   ]
  },
  {
   "cell_type": "code",
   "execution_count": null,
   "id": "3c14d41e-e9bf-41bb-aed5-6ea448be7821",
   "metadata": {
    "id": "ed327c90-ea63-4a0b-85ca-c67bfb509dcd"
   },
   "outputs": [],
   "source": [
    "filename = \"1.6_2.mp4\"           \n",
    "Animate.to_mp4(10,filename)   #save a file of our video in your folder"
   ]
  },
  {
   "cell_type": "code",
   "execution_count": null,
   "id": "5b61c562-6568-428e-98a9-6fd40e5c7100",
   "metadata": {
    "id": "243a20cd-5af7-4ddb-b098-fa216f7f2496"
   },
   "outputs": [],
   "source": [
    "Video(filename)               # open a file from your folder "
   ]
  },
  {
   "cell_type": "raw",
   "id": "3466c31e-27dd-4366-87fb-3d9a5fce77af",
   "metadata": {
    "id": "3466c31e-27dd-4366-87fb-3d9a5fce77af"
   },
   "source": [
    "sim.reset_meep()\n",
    "sim.run(until=300)\n",
    "ey_data = sim.get_array(center=mp.Vector3(), size=cell, component=component)\n",
    "plt.figure(dpi=100)\n",
    "plt.imshow(ey_data.transpose(), interpolation='spline36', cmap='RdBu', alpha=1,vmax=1,vmin=-1)\n",
    "plt.colorbar()\n",
    "plt.show()"
   ]
  },
  {
   "cell_type": "markdown",
   "id": "b0eafb05-5ad1-4d62-9552-4e79bc0af80f",
   "metadata": {},
   "source": [
    "get the total time taken for calculation by time now-start_time we defined at the beginning"
   ]
  },
  {
   "cell_type": "code",
   "execution_count": null,
   "id": "06e5fbd7-5aa3-4e43-af5f-99c11f3212fe",
   "metadata": {
    "id": "06e5fbd7-5aa3-4e43-af5f-99c11f3212fe"
   },
   "outputs": [],
   "source": [
    "print(\"--- %s seconds ---\" % (time.time() - start_time))"
   ]
  },
  {
   "cell_type": "code",
   "execution_count": null,
   "id": "11838bfa-e183-46bf-b321-e4018cea7e26",
   "metadata": {
    "tags": []
   },
   "outputs": [],
   "source": [
    "y1"
   ]
  },
  {
   "cell_type": "code",
   "execution_count": null,
   "id": "389bf24b-615f-4537-88d0-f8de376434e3",
   "metadata": {},
   "outputs": [],
   "source": []
  }
 ],
 "metadata": {
  "colab": {
   "name": "YM_Band_Structure_Square-TE-Copy8.ipynb",
   "provenance": []
  },
  "kernelspec": {
   "display_name": "Python 3",
   "language": "python",
   "name": "python3"
  },
  "language_info": {
   "codemirror_mode": {
    "name": "ipython",
    "version": 3
   },
   "file_extension": ".py",
   "mimetype": "text/x-python",
   "name": "python",
   "nbconvert_exporter": "python",
   "pygments_lexer": "ipython3",
   "version": "3.9.4"
  },
  "widgets": {
   "application/vnd.jupyter.widget-state+json": {
    "11e55593c6cd4d468fc44d5ac4738b42": {
     "model_module": "@jupyter-widgets/controls",
     "model_module_version": "1.5.0",
     "model_name": "ProgressStyleModel",
     "state": {
      "_model_module": "@jupyter-widgets/controls",
      "_model_module_version": "1.5.0",
      "_model_name": "ProgressStyleModel",
      "_view_count": null,
      "_view_module": "@jupyter-widgets/base",
      "_view_module_version": "1.2.0",
      "_view_name": "StyleView",
      "bar_color": null,
      "description_width": ""
     }
    },
    "153649e05e3b4e338e2f51268cc3947b": {
     "model_module": "@jupyter-widgets/controls",
     "model_module_version": "1.5.0",
     "model_name": "FloatProgressModel",
     "state": {
      "_dom_classes": [],
      "_model_module": "@jupyter-widgets/controls",
      "_model_module_version": "1.5.0",
      "_model_name": "FloatProgressModel",
      "_view_count": null,
      "_view_module": "@jupyter-widgets/controls",
      "_view_module_version": "1.5.0",
      "_view_name": "ProgressView",
      "bar_style": "",
      "description": "35% done ",
      "description_tooltip": null,
      "layout": "IPY_MODEL_f3a49a45ec77442baa7f57b51cbb79d5",
      "max": 80,
      "min": 0,
      "orientation": "horizontal",
      "style": "IPY_MODEL_ddc6037bfab1499c8de79281b662649a",
      "value": 28.618750000000002
     }
    },
    "1e3694e456be4171a5bb31c3d9602a28": {
     "model_module": "@jupyter-widgets/controls",
     "model_module_version": "1.5.0",
     "model_name": "FloatProgressModel",
     "state": {
      "_dom_classes": [],
      "_model_module": "@jupyter-widgets/controls",
      "_model_module_version": "1.5.0",
      "_model_name": "FloatProgressModel",
      "_view_count": null,
      "_view_module": "@jupyter-widgets/controls",
      "_view_module_version": "1.5.0",
      "_view_name": "ProgressView",
      "bar_style": "",
      "description": "100% done ",
      "description_tooltip": null,
      "layout": "IPY_MODEL_ea7f951cbd3f47ac9091fad92b8ac012",
      "max": 80,
      "min": 0,
      "orientation": "horizontal",
      "style": "IPY_MODEL_dc8477fdc55e4e13908e24f29c8c4924",
      "value": 80
     }
    },
    "3300d96a15fe46aca6810c1b73ebe151": {
     "model_module": "@jupyter-widgets/base",
     "model_module_version": "1.2.0",
     "model_name": "LayoutModel",
     "state": {
      "_model_module": "@jupyter-widgets/base",
      "_model_module_version": "1.2.0",
      "_model_name": "LayoutModel",
      "_view_count": null,
      "_view_module": "@jupyter-widgets/base",
      "_view_module_version": "1.2.0",
      "_view_name": "LayoutView",
      "align_content": null,
      "align_items": null,
      "align_self": null,
      "border": null,
      "bottom": null,
      "display": null,
      "flex": null,
      "flex_flow": null,
      "grid_area": null,
      "grid_auto_columns": null,
      "grid_auto_flow": null,
      "grid_auto_rows": null,
      "grid_column": null,
      "grid_gap": null,
      "grid_row": null,
      "grid_template_areas": null,
      "grid_template_columns": null,
      "grid_template_rows": null,
      "height": null,
      "justify_content": null,
      "justify_items": null,
      "left": null,
      "margin": null,
      "max_height": null,
      "max_width": null,
      "min_height": null,
      "min_width": null,
      "object_fit": null,
      "object_position": null,
      "order": null,
      "overflow": null,
      "overflow_x": null,
      "overflow_y": null,
      "padding": null,
      "right": null,
      "top": null,
      "visibility": null,
      "width": null
     }
    },
    "69dc2cee5b1c4c79b522af34e16f5548": {
     "model_module": "@jupyter-widgets/controls",
     "model_module_version": "1.5.0",
     "model_name": "FloatProgressModel",
     "state": {
      "_dom_classes": [],
      "_model_module": "@jupyter-widgets/controls",
      "_model_module_version": "1.5.0",
      "_model_name": "FloatProgressModel",
      "_view_count": null,
      "_view_module": "@jupyter-widgets/controls",
      "_view_module_version": "1.5.0",
      "_view_name": "ProgressView",
      "bar_style": "",
      "description": "100% done ",
      "description_tooltip": null,
      "layout": "IPY_MODEL_3300d96a15fe46aca6810c1b73ebe151",
      "max": 80,
      "min": 0,
      "orientation": "horizontal",
      "style": "IPY_MODEL_11e55593c6cd4d468fc44d5ac4738b42",
      "value": 80
     }
    },
    "dc8477fdc55e4e13908e24f29c8c4924": {
     "model_module": "@jupyter-widgets/controls",
     "model_module_version": "1.5.0",
     "model_name": "ProgressStyleModel",
     "state": {
      "_model_module": "@jupyter-widgets/controls",
      "_model_module_version": "1.5.0",
      "_model_name": "ProgressStyleModel",
      "_view_count": null,
      "_view_module": "@jupyter-widgets/base",
      "_view_module_version": "1.2.0",
      "_view_name": "StyleView",
      "bar_color": null,
      "description_width": ""
     }
    },
    "ddc6037bfab1499c8de79281b662649a": {
     "model_module": "@jupyter-widgets/controls",
     "model_module_version": "1.5.0",
     "model_name": "ProgressStyleModel",
     "state": {
      "_model_module": "@jupyter-widgets/controls",
      "_model_module_version": "1.5.0",
      "_model_name": "ProgressStyleModel",
      "_view_count": null,
      "_view_module": "@jupyter-widgets/base",
      "_view_module_version": "1.2.0",
      "_view_name": "StyleView",
      "bar_color": null,
      "description_width": ""
     }
    },
    "ea7f951cbd3f47ac9091fad92b8ac012": {
     "model_module": "@jupyter-widgets/base",
     "model_module_version": "1.2.0",
     "model_name": "LayoutModel",
     "state": {
      "_model_module": "@jupyter-widgets/base",
      "_model_module_version": "1.2.0",
      "_model_name": "LayoutModel",
      "_view_count": null,
      "_view_module": "@jupyter-widgets/base",
      "_view_module_version": "1.2.0",
      "_view_name": "LayoutView",
      "align_content": null,
      "align_items": null,
      "align_self": null,
      "border": null,
      "bottom": null,
      "display": null,
      "flex": null,
      "flex_flow": null,
      "grid_area": null,
      "grid_auto_columns": null,
      "grid_auto_flow": null,
      "grid_auto_rows": null,
      "grid_column": null,
      "grid_gap": null,
      "grid_row": null,
      "grid_template_areas": null,
      "grid_template_columns": null,
      "grid_template_rows": null,
      "height": null,
      "justify_content": null,
      "justify_items": null,
      "left": null,
      "margin": null,
      "max_height": null,
      "max_width": null,
      "min_height": null,
      "min_width": null,
      "object_fit": null,
      "object_position": null,
      "order": null,
      "overflow": null,
      "overflow_x": null,
      "overflow_y": null,
      "padding": null,
      "right": null,
      "top": null,
      "visibility": null,
      "width": null
     }
    },
    "f3a49a45ec77442baa7f57b51cbb79d5": {
     "model_module": "@jupyter-widgets/base",
     "model_module_version": "1.2.0",
     "model_name": "LayoutModel",
     "state": {
      "_model_module": "@jupyter-widgets/base",
      "_model_module_version": "1.2.0",
      "_model_name": "LayoutModel",
      "_view_count": null,
      "_view_module": "@jupyter-widgets/base",
      "_view_module_version": "1.2.0",
      "_view_name": "LayoutView",
      "align_content": null,
      "align_items": null,
      "align_self": null,
      "border": null,
      "bottom": null,
      "display": null,
      "flex": null,
      "flex_flow": null,
      "grid_area": null,
      "grid_auto_columns": null,
      "grid_auto_flow": null,
      "grid_auto_rows": null,
      "grid_column": null,
      "grid_gap": null,
      "grid_row": null,
      "grid_template_areas": null,
      "grid_template_columns": null,
      "grid_template_rows": null,
      "height": null,
      "justify_content": null,
      "justify_items": null,
      "left": null,
      "margin": null,
      "max_height": null,
      "max_width": null,
      "min_height": null,
      "min_width": null,
      "object_fit": null,
      "object_position": null,
      "order": null,
      "overflow": null,
      "overflow_x": null,
      "overflow_y": null,
      "padding": null,
      "right": null,
      "top": null,
      "visibility": null,
      "width": null
     }
    }
   }
  }
 },
 "nbformat": 4,
 "nbformat_minor": 5
}
